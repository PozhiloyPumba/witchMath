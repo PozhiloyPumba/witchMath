{
 "cells": [
  {
   "cell_type": "markdown",
   "id": "721c40b2-5bfd-436a-bc3e-b86cfc4eb3ff",
   "metadata": {},
   "source": [
    "# Лабораторная работа №2"
   ]
  },
  {
   "cell_type": "code",
   "execution_count": 1,
   "id": "4ed92337-e958-4f23-926d-0cd5f65688ee",
   "metadata": {},
   "outputs": [],
   "source": [
    "import numpy as np"
   ]
  },
  {
   "cell_type": "markdown",
   "id": "0c558f36-722f-4cad-a501-5209426cbea2",
   "metadata": {},
   "source": [
    "### В данной работе будут реализованы численные методы решения СЛАУ, сравнены полученные результаты с точными методами, оценены погрешности, найдено число обусловленности в различных нормах, посчитаны числа неувязок, а также посчитаны максимальное и минимальное собственные числа матрицы."
   ]
  },
  {
   "cell_type": "markdown",
   "id": "c583aca2-2a4b-493d-8c46-b7ed7b238e02",
   "metadata": {},
   "source": [
    "## Я буду использовать матрицу и столбец из пункта л):"
   ]
  },
  {
   "cell_type": "code",
   "execution_count": 2,
   "id": "fa6221bf-641a-4880-87d0-9f131590c919",
   "metadata": {},
   "outputs": [],
   "source": [
    "n = 20\n",
    "matrix = np.zeros((n, n))\n",
    "rightFunction = np.array([[1 / i] for i in range(1, n + 1)])\n",
    "for i in range(n):\n",
    "    for j in range(n):\n",
    "        if i == j:\n",
    "            matrix[i, j] = 10\n",
    "        else:\n",
    "            matrix[i, j] = 1 / (i + j + 2)\n"
   ]
  },
  {
   "cell_type": "markdown",
   "id": "dc16e4df-5045-406a-a718-e50c99543068",
   "metadata": {},
   "source": [
    "## Определим функции трех норм для вектора x и матрицы A:\n",
    "- $||x||_1 = \\max\\limits_{k} |x_k|$; $||A||_1 = \\max\\limits_{1 \\leq i \\leq n} \\sum\\limits_{1 \\leq j \\leq n}^{n} |a_{ij}|$ \n",
    "- $||x||_2 = \\sum\\limits_{k} |x_k|$; $||A||_2 = \\max\\limits_{1 \\leq j \\leq n} \\sum\\limits_{1 \\leq i \\leq n}^{n} |a_{ij}|$ \n",
    "- $||x||_3 = \\sqrt{(x, x)}$; $||A||_3 = \\sqrt{|\\max\\limits_{1 \\leq i \\leq n} \\lambda^{i} \\cdot (A^{*} A)|}$\n",
    "## А также сразу напишем способ определения масимального и минимального собственных значений матрицы"
   ]
  },
  {
   "cell_type": "code",
   "execution_count": 3,
   "id": "60ec383f-eb17-4799-a681-c9bc26a3a103",
   "metadata": {},
   "outputs": [
    {
     "name": "stdout",
     "output_type": "stream",
     "text": [
      "Compute max eigen value: 11.300128398417678\n",
      "True max eigen value: 11.300128398425878\n",
      "Error: -7.256256638476585e-13\n",
      "Compute min eigen value: 9.712398553645631\n",
      "True min eigen value: 9.657797124947598\n",
      "Error: 0.005653611065922\n"
     ]
    }
   ],
   "source": [
    "def vectorNorm1(vec):\n",
    "    return np.abs(vec).max()\n",
    "\n",
    "def vectorNorm2(vec):\n",
    "    return np.abs(vec).sum()\n",
    "\n",
    "def vectorNorm3(vec):\n",
    "    return np.sqrt(np.dot(vec.T, vec)).item()\n",
    "\n",
    "def matrixNorm1(A):\n",
    "    return np.abs(np.abs(A).sum(axis=1, dtype='float')).max()\n",
    "\n",
    "def matrixNorm2(A):\n",
    "    return np.abs(np.abs(A).sum(axis=0, dtype='float')).max()\n",
    "    \n",
    "def matrixNorm3(A):\n",
    "    return np.sqrt(maxEig(np.matmul(A.T, A)))\n",
    "\n",
    "def maxEig(A, init_vec = None, numIter = 100):\n",
    "    x = np.random.rand(A.shape[1]) if init_vec is None else init_vec;\n",
    "    for i in range(numIter):\n",
    "        x = np.dot(A, x) / vectorNorm1(x)\n",
    "    \n",
    "    return np.dot(np.dot(x.T, A), x) / np.dot(x.T, x)\n",
    "\n",
    "def minEig(A, init_vec = None, numIter = 100):\n",
    "    x = np.random.rand(A.shape[1]) if init_vec is None else init_vec;\n",
    "    return 1 / maxEig(np.linalg.inv(A), x, numIter)\n",
    "\n",
    "w = np.linalg.eigvals(matrix)\n",
    "\n",
    "compMaxEig = maxEig(matrix)\n",
    "trueMax = max(w)\n",
    "print('Compute max eigen value: ' + str(compMaxEig))\n",
    "print('True max eigen value: ' + str(trueMax))\n",
    "print('Error: ' + str((compMaxEig - trueMax) / trueMax))\n",
    "\n",
    "compMinEig = minEig(matrix)\n",
    "trueMin = min(w)\n",
    "print('Compute min eigen value: ' + str(compMinEig))\n",
    "print('True min eigen value: ' + str(trueMin))\n",
    "print('Error: ' + str((compMinEig - trueMin) / trueMin))"
   ]
  },
  {
   "cell_type": "markdown",
   "id": "389cc0a7-e384-4de3-96e8-c73a024c927f",
   "metadata": {},
   "source": [
    "## Как видно, собственные значения получаются довольно точно относительно библиотечных методов (при 100 итерациях погрешность погрешность для данной матрицы):\n",
    "- у максимального $\\approx10^{-12}$\n",
    "- у минимального $\\approx10^{-3}$"
   ]
  },
  {
   "cell_type": "markdown",
   "id": "00b00b26-431e-4715-bdb5-a77464901a1c",
   "metadata": {},
   "source": [
    "## Также напишем функцию для числа обусловленности"
   ]
  },
  {
   "cell_type": "code",
   "execution_count": 4,
   "id": "8f1f3e98-fa76-4a50-a3ea-f5965c8cb47b",
   "metadata": {},
   "outputs": [
    {
     "name": "stdout",
     "output_type": "stream",
     "text": [
      "1.4526954762585125\n",
      "1.4526954762585123\n",
      "1.1700373868496845\n"
     ]
    }
   ],
   "source": [
    "def conditionNumber(A, norm):\n",
    "    return norm(A) * norm (np.linalg.inv(A))\n",
    "\n",
    "print(conditionNumber(matrix, matrixNorm1))\n",
    "print(conditionNumber(matrix, matrixNorm2))\n",
    "print(conditionNumber(matrix, matrixNorm3))"
   ]
  },
  {
   "cell_type": "markdown",
   "id": "f30556d9-3167-445e-84f2-6e93a171a3a4",
   "metadata": {},
   "source": [
    "## Видно, что число обусловленности гораздо меньше 100, так что задача обусловлена хорошо"
   ]
  },
  {
   "cell_type": "markdown",
   "id": "b2bb60de-dccd-4eae-80c8-4f37914eeb6b",
   "metadata": {},
   "source": [
    "## Проверим возможность LU разложения:"
   ]
  },
  {
   "cell_type": "code",
   "execution_count": 5,
   "id": "d77768f4-a34f-4e9e-96c1-62a946faae0c",
   "metadata": {},
   "outputs": [
    {
     "data": {
      "text/plain": [
       "True"
      ]
     },
     "execution_count": 5,
     "metadata": {},
     "output_type": "execute_result"
    }
   ],
   "source": [
    "def LU_is_available(A):\n",
    "    for i in range(A.shape[0]):\n",
    "        if np.linalg.det(A[:i, :i]) == 0:\n",
    "            return False\n",
    "    return True\n",
    "\n",
    "LU_is_available(matrix)"
   ]
  },
  {
   "cell_type": "markdown",
   "id": "b59f73e9-2698-4d75-9ace-034be3bb4a9b",
   "metadata": {},
   "source": [
    "## Так как разложение возможно, то выполним его:"
   ]
  },
  {
   "cell_type": "code",
   "execution_count": 6,
   "id": "c07e835b-5b0a-40e7-a5f6-e8def1148c93",
   "metadata": {},
   "outputs": [
    {
     "name": "stdout",
     "output_type": "stream",
     "text": [
      "My solution:\n",
      "[[0.09615746]\n",
      " [0.04478375]\n",
      " [0.02874755]\n",
      " [0.02101576]\n",
      " [0.0164943 ]\n",
      " [0.01353947]\n",
      " [0.01146294]\n",
      " [0.00992677]\n",
      " [0.00874602]\n",
      " [0.00781115]\n",
      " [0.00705327]\n",
      " [0.00642689]\n",
      " [0.0059008 ]\n",
      " [0.00545292]\n",
      " [0.00506717]\n",
      " [0.00473155]\n",
      " [0.00443698]\n",
      " [0.00417641]\n",
      " [0.00394434]\n",
      " [0.00373636]]\n"
     ]
    }
   ],
   "source": [
    "def LU (A):\n",
    "    n = A.shape[0]\n",
    "    L = np.eye(n)\n",
    "    U = np.zeros((n, n))\n",
    "    \n",
    "    for i in range(n):\n",
    "        for j in range(n):\n",
    "            if i <= j:\n",
    "                U[i][j] = A[i][j] - sum(np.dot(L[i:i+1, 0:i], U[0:i, j:j+1]))\n",
    "            else:\n",
    "                L[i][j] = (A[i][j] - sum(np.dot(L[i:i+1, 0:j], U[0:j, j:j+1]))) / U[j][j]\n",
    "    return L, U\n",
    "\n",
    "def get_l_solution(L, f):\n",
    "    y = np.zeros((L.shape[0], 1))\n",
    "    assert L[0][0] != 0\n",
    "    y[0] = f[0] / L[0][0]\n",
    "    for i in range(1, len(y)):\n",
    "        assert L[i][i] != 0\n",
    "        y[i] = (f[i] - sum(np.dot(L[i:i+1, :i], y[:i]))) / L[i][i]\n",
    "    return y\n",
    "\n",
    "def get_u_solution(U, y):\n",
    "    x = np.zeros((U.shape[0], 1))\n",
    "    assert U[-1][-1] != 0\n",
    "    \n",
    "    x[-1] = y[-1] / U[-1][-1]\n",
    "    for i in range(U.shape[0] - 1, -1, -1):\n",
    "        x[i] = (y[i] - sum(np.dot(U[i:i+1, i+1:], x[i+1:]))) / U[i][i]\n",
    "    return x\n",
    "\n",
    "L, U = LU(matrix)\n",
    "y = get_l_solution(L, rightFunction)\n",
    "ans = get_u_solution(U, y)\n",
    "print(\"My solution:\")\n",
    "print(ans)"
   ]
  },
  {
   "cell_type": "markdown",
   "id": "6d3acf66-af82-4e8b-b83e-e016954a6d6b",
   "metadata": {},
   "source": [
    "## Сделаем печать невязок"
   ]
  },
  {
   "cell_type": "code",
   "execution_count": 7,
   "id": "adee6b7e-cae3-4dfe-a448-fb780d50dc4c",
   "metadata": {},
   "outputs": [
    {
     "name": "stdout",
     "output_type": "stream",
     "text": [
      "Errors:\n",
      "Norm of error vector in 1st norm = 1.1102230246251565e-16\n",
      "Norm of error vector in 2nd norm = 2.7755575615628914e-16\n",
      "Norm of error vector in 3rd norm = 1.4015878649856313e-16\n"
     ]
    }
   ],
   "source": [
    "print(\"Errors:\")\n",
    "errors = np.matmul(matrix, ans) - rightFunction\n",
    "print(f\"Norm of error vector in 1st norm = {vectorNorm1(errors)}\")\n",
    "print(f\"Norm of error vector in 2nd norm = {vectorNorm2(errors)}\")\n",
    "print(f\"Norm of error vector in 3rd norm = {vectorNorm3(errors)}\")"
   ]
  },
  {
   "cell_type": "markdown",
   "id": "9ca4dca4-c7fb-402a-b14d-c166c52e3f96",
   "metadata": {},
   "source": [
    "## Теперь решим методом верхней релаксации"
   ]
  },
  {
   "cell_type": "code",
   "execution_count": 8,
   "id": "9f2e929f-d705-4b44-9690-983e2ecfd975",
   "metadata": {},
   "outputs": [
    {
     "data": {
      "text/plain": [
       "True"
      ]
     },
     "execution_count": 8,
     "metadata": {},
     "output_type": "execute_result"
    }
   ],
   "source": [
    "def upperRelaxation_is_available(A):\n",
    "    for i in range(A.shape[0]):\n",
    "        if np.linalg.det(A[:i, :i]) <= 0:\n",
    "            return False\n",
    "    return True\n",
    "\n",
    "upperRelaxation_is_available(matrix)"
   ]
  },
  {
   "cell_type": "markdown",
   "id": "c1731f5d-ad43-414a-9893-e59ee1bc2555",
   "metadata": {},
   "source": [
    "## Как видно, метод применим. Критерием останова посчитаем $||f - A \\cdot x||_3 < \\varepsilon$, при $\\varepsilon = 10^{-14}$"
   ]
  },
  {
   "cell_type": "code",
   "execution_count": 9,
   "id": "aa6029ef-6ec1-4dd4-8cb8-4ae20c6f7324",
   "metadata": {},
   "outputs": [
    {
     "name": "stdout",
     "output_type": "stream",
     "text": [
      "Number of iterations: 336\n",
      "My solution:\n",
      "[[0.09615746]\n",
      " [0.04478375]\n",
      " [0.02874755]\n",
      " [0.02101576]\n",
      " [0.0164943 ]\n",
      " [0.01353947]\n",
      " [0.01146294]\n",
      " [0.00992677]\n",
      " [0.00874602]\n",
      " [0.00781115]\n",
      " [0.00705327]\n",
      " [0.00642689]\n",
      " [0.0059008 ]\n",
      " [0.00545292]\n",
      " [0.00506717]\n",
      " [0.00473155]\n",
      " [0.00443698]\n",
      " [0.00417641]\n",
      " [0.00394434]\n",
      " [0.00373636]]\n"
     ]
    }
   ],
   "source": [
    "def upperRelaxation(A, f, w=0.1, epsilon=1e-14, init_vec = None, norm=vectorNorm3):\n",
    "    n = A.shape[0]\n",
    "    x = np.random.rand(1, n) if init_vec is None else init_vec;\n",
    "    x = x.T\n",
    "    \n",
    "    D = np.zeros([n, n])\n",
    "    L = np.zeros([n, n])\n",
    "    U = np.zeros([n, n])\n",
    "    \n",
    "    for i in range(0, n):\n",
    "        for j in range(0, n):\n",
    "            if i > j:\n",
    "                L[i, j] = A[i, j]\n",
    "            elif i < j:\n",
    "                U[i, j] = A[i, j]\n",
    "            else:\n",
    "                D[i, j] = A[i, j]\n",
    "    \n",
    "    first = np.linalg.inv(D + w * L)\n",
    "    second = np.matmul(first, (w - 1) * D + w * U)\n",
    "    \n",
    "    numIter = 0\n",
    "    \n",
    "    while norm(f - np.matmul(A, x)) >= epsilon:\n",
    "        prev = x\n",
    "        x = -np.matmul(second, x) + np.matmul(w * first, f)\n",
    "        numIter += 1\n",
    "\n",
    "    return (x, numIter)\n",
    "\n",
    "solution, numIter = upperRelaxation(matrix, rightFunction)\n",
    "print(\"Number of iterations: \" + str(numIter))\n",
    "print(\"My solution:\")\n",
    "print(solution)"
   ]
  },
  {
   "cell_type": "markdown",
   "id": "6d117f66-dc1c-4464-b23a-7bbd9ad17a8e",
   "metadata": {},
   "source": [
    "## Собственно видно, что при выставлении достаточной точности результаты получаются не хуже точного метода из-за машинной погрешности и за 336 итераций получено приемлемое решение. Сделаем печать невязок:"
   ]
  },
  {
   "cell_type": "code",
   "execution_count": 10,
   "id": "a687fc12-636f-44db-87e6-f33f2158612a",
   "metadata": {},
   "outputs": [
    {
     "name": "stdout",
     "output_type": "stream",
     "text": [
      "Errors:\n",
      "Norm of error vector in 1st norm = 2.942091015256665e-15\n",
      "Norm of error vector in 2nd norm = 3.722022690055837e-14\n",
      "Norm of error vector in 3rd norm = 9.074338337022835e-15\n"
     ]
    }
   ],
   "source": [
    "print(\"Errors:\")\n",
    "errors = np.matmul(matrix, solution) - rightFunction\n",
    "print(f\"Norm of error vector in 1st norm = {vectorNorm1(errors)}\")\n",
    "print(f\"Norm of error vector in 2nd norm = {vectorNorm2(errors)}\")\n",
    "print(f\"Norm of error vector in 3rd norm = {vectorNorm3(errors)}\")"
   ]
  },
  {
   "cell_type": "code",
   "execution_count": null,
   "id": "45975850-93b7-40a3-80bd-5dc2057707de",
   "metadata": {},
   "outputs": [],
   "source": []
  }
 ],
 "metadata": {
  "kernelspec": {
   "display_name": "Python 3 (ipykernel)",
   "language": "python",
   "name": "python3"
  },
  "language_info": {
   "codemirror_mode": {
    "name": "ipython",
    "version": 3
   },
   "file_extension": ".py",
   "mimetype": "text/x-python",
   "name": "python",
   "nbconvert_exporter": "python",
   "pygments_lexer": "ipython3",
   "version": "3.10.8"
  }
 },
 "nbformat": 4,
 "nbformat_minor": 5
}
