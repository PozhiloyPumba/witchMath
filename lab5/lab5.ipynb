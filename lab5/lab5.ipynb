{
 "cells": [
  {
   "cell_type": "markdown",
   "id": "817fbdc1-1d74-4c9f-8dcc-3ce90813e2be",
   "metadata": {},
   "source": [
    "# Лабораторная работа №5"
   ]
  },
  {
   "cell_type": "markdown",
   "id": "b07f5d89-dc32-41a5-a1e9-9978d3c2f0a1",
   "metadata": {},
   "source": [
    "## В данной работе мы численно проинтегрируем таблично заданные функции с помощью метода трапеций, уточним это значение с помощью экстраполяции Ричардсона, и сравним полученный результат с результатом полученным по формуле Симпсона"
   ]
  },
  {
   "cell_type": "markdown",
   "id": "887a4f56-1d1b-48ca-8c12-93c537088698",
   "metadata": {},
   "source": [
    "## Импортируем необходимые билиотеки"
   ]
  },
  {
   "cell_type": "code",
   "execution_count": 4,
   "id": "e88a837d-a283-43eb-b77a-a7a867c5a58f",
   "metadata": {},
   "outputs": [],
   "source": [
    "import numpy as np\n",
    "from prettytable import PrettyTable"
   ]
  },
  {
   "cell_type": "markdown",
   "id": "32346a89-a89f-45a6-b7cd-8b1ec4aa87c3",
   "metadata": {},
   "source": [
    "## Напишем класс, принимающий на вход таблицу значений функции в наборе точек, с методами, которые подсчитывают значение интеграла, по тому или иному методу:"
   ]
  },
  {
   "cell_type": "code",
   "execution_count": 13,
   "id": "11f8ac58-5218-449a-97a6-d78ba360a4a2",
   "metadata": {},
   "outputs": [],
   "source": [
    "class Integrator:\n",
    "    def __init__(self, xValues, yValues):\n",
    "        assert len(xValues) == len(yValues), \"table's sizes are not compatible\"\n",
    "        assert len(xValues) > 1\n",
    "        self.x = xValues\n",
    "        self.y = yValues\n",
    "        \n",
    "    def trapezoid_h (self):\n",
    "        return sum([(self.x[i+1] - self.x[i])*(self.y[i+1] + self.y[i])/2 for i in range(len(self.x) - 1)])\n",
    "    \n",
    "    def trapezoid_2h (self):\n",
    "        return sum([(self.x[2*(i+1)] - self.x[2*i])*(self.y[2*i] + self.y[2*(i + 1)])/2 for i in range((len(self.x) - 1) // 2)])\n",
    "    \n",
    "    def richardson_update(self):\n",
    "        return (4 * self.trapezoid_h() - self.trapezoid_2h()) / 3\n",
    "    \n",
    "    def simpson (self):\n",
    "        return sum([(self.x[2*i+1] - self.x[2*i])*(self.y[2*i] + 4 * self.y[2*i + 1] + self.y[2*i + 2])/3 for i in range(int(len(self.x) / 2))])\n",
    "    \n",
    "    def dumpAll (self):\n",
    "        table = PrettyTable()\n",
    "        table.add_column(\"x\", self.x)\n",
    "        table.add_column(\"f(x)\", self.y)\n",
    "        print(table)\n",
    "        \n",
    "        print(\"Методом трапеций значение получилось:\", np.around(self.trapezoid_h(), decimals=6))\n",
    "        print(\"Методом трапеций с удвоенным шагом значение получилось:\", np.around(self.trapezoid_2h(), decimals=6))\n",
    "        print(\"Через уточнение экстраполяцией Ричардсона значение получилось:\", np.around(self.richardson_update(), decimals=6))\n",
    "        print(\"Методом Симпсона значение получилось:\", np.around(self.simpson(), decimals=6))"
   ]
  },
  {
   "cell_type": "markdown",
   "id": "75ac4872-8772-4eff-a2f3-e82e30f194ea",
   "metadata": {},
   "source": [
    "## Внесем данные и посчитаем первый интеграл:"
   ]
  },
  {
   "cell_type": "code",
   "execution_count": 14,
   "id": "860a7a6d-27f1-40e5-94e2-fa07b48952bd",
   "metadata": {},
   "outputs": [
    {
     "name": "stdout",
     "output_type": "stream",
     "text": [
      "+------+----------+\n",
      "|  x   |   f(x)   |\n",
      "+------+----------+\n",
      "| 0.0  |   1.0    |\n",
      "| 0.25 | 0.989616 |\n",
      "| 0.5  | 0.958851 |\n",
      "| 0.75 | 0.908852 |\n",
      "| 1.0  | 0.841471 |\n",
      "| 1.25 | 0.759188 |\n",
      "| 1.5  | 0.664997 |\n",
      "| 1.75 | 0.562278 |\n",
      "| 2.0  | 0.454649 |\n",
      "+------+----------+\n",
      "Методом трапеций значение получилось: 1.603144\n",
      "Методом трапеций с удвоенным шагом значение получилось: 1.596322\n",
      "Через уточнение экстраполяцией Ричардсона значение получилось: 1.605419\n",
      "Методом Симпсона значение получилось: 1.605419\n"
     ]
    }
   ],
   "source": [
    "firstInt = Integrator([(i*0.25) for i in range(9)], np.around([1] + [np.sin(i*0.25)/(i*0.25) for i in range(1, 9)], decimals=6))\n",
    "firstInt.dumpAll()"
   ]
  },
  {
   "cell_type": "markdown",
   "id": "a674d988-32d5-4732-a682-d2a6b2ead611",
   "metadata": {},
   "source": [
    "## Аналогично для остальных функций:"
   ]
  },
  {
   "cell_type": "code",
   "execution_count": 15,
   "id": "bd8ddf4b-5c82-4e8d-a5b3-148c788a93b6",
   "metadata": {},
   "outputs": [
    {
     "name": "stdout",
     "output_type": "stream",
     "text": [
      "+-------+----------+\n",
      "|   x   |   f(x)   |\n",
      "+-------+----------+\n",
      "|  0.0  |   0.0    |\n",
      "| 0.125 | 0.02147  |\n",
      "|  0.25 | 0.29305  |\n",
      "| 0.375 | 0.494105 |\n",
      "|  0.5  | 0.541341 |\n",
      "| 0.625 | 0.516855 |\n",
      "|  0.75 | 0.468617 |\n",
      "| 0.875 | 0.416531 |\n",
      "|  1.0  | 0.367879 |\n",
      "+-------+----------+\n",
      "Методом трапеций значение получилось: 0.366989\n",
      "Методом трапеций с удвоенным шагом значение получилось: 0.371737\n",
      "Через уточнение экстраполяцией Ричардсона значение получилось: 0.365406\n",
      "Методом Симпсона значение получилось: 0.365406\n"
     ]
    }
   ],
   "source": [
    "secondInt = Integrator([(i*0.125) for i in range(9)], np.around([0] + [np.exp(-1/(i*0.125))/(i*0.125)**2 for i in range(1, 9)], decimals=6))\n",
    "secondInt.dumpAll()"
   ]
  },
  {
   "cell_type": "code",
   "execution_count": 16,
   "id": "f497ce54-e1e2-4336-87c9-721b4e5cdb95",
   "metadata": {},
   "outputs": [
    {
     "name": "stdout",
     "output_type": "stream",
     "text": [
      "+------+----------+\n",
      "|  x   |   f(x)   |\n",
      "+------+----------+\n",
      "| 0.0  |   1.0    |\n",
      "| 0.15 | 1.007568 |\n",
      "| 0.3  | 1.031121 |\n",
      "| 0.45 | 1.073456 |\n",
      "| 0.6  | 1.140228 |\n",
      "| 0.75 | 1.242129 |\n",
      "| 0.9  | 1.400176 |\n",
      "| 1.05 |  1.6603  |\n",
      "| 1.2  | 2.14346  |\n",
      "+------+----------+\n",
      "Методом трапеций значение получилось: 1.519006\n",
      "Методом трапеций с удвоенным шагом значение получилось: 1.542976\n",
      "Через уточнение экстраполяцией Ричардсона значение получилось: 1.511016\n",
      "Методом Симпсона значение получилось: 1.511016\n"
     ]
    }
   ],
   "source": [
    "thirdInt = Integrator(np.around([(i*0.15) for i in range(9)], decimals=2), np.around([1] + [np.tan(i*0.15)/(i*0.15) for i in range(1, 9)], decimals=6))\n",
    "thirdInt.dumpAll()"
   ]
  },
  {
   "cell_type": "code",
   "execution_count": 17,
   "id": "03708bdb-68e4-4ae2-85de-e6f722d89039",
   "metadata": {},
   "outputs": [
    {
     "name": "stdout",
     "output_type": "stream",
     "text": [
      "+------+----------+\n",
      "|  x   |   f(x)   |\n",
      "+------+----------+\n",
      "| 0.0  |   1.0    |\n",
      "| 0.25 | 0.979915 |\n",
      "| 0.5  | 0.927295 |\n",
      "| 0.75 | 0.858001 |\n",
      "| 1.0  | 0.785398 |\n",
      "| 1.25 | 0.716844 |\n",
      "| 1.5  | 0.655196 |\n",
      "| 1.75 | 0.600943 |\n",
      "| 2.0  | 0.553574 |\n",
      "+------+----------+\n",
      "Методом трапеций значение получилось: 1.575095\n",
      "Методом трапеций с удвоенным шагом значение получилось: 1.572338\n",
      "Через уточнение экстраполяцией Ричардсона значение получилось: 1.576014\n",
      "Методом Симпсона значение получилось: 1.576014\n"
     ]
    }
   ],
   "source": [
    "fourthInt = Integrator([(i*0.25) for i in range(9)], np.around([1] + [np.arctan(i*0.25)/(i*0.25) for i in range(1, 9)], decimals=6))\n",
    "fourthInt.dumpAll()"
   ]
  },
  {
   "cell_type": "code",
   "execution_count": 18,
   "id": "a9f4453f-f400-4860-8838-ef1fd3fb295a",
   "metadata": {},
   "outputs": [
    {
     "name": "stdout",
     "output_type": "stream",
     "text": [
      "+-------+----------+\n",
      "|   x   |   f(x)   |\n",
      "+-------+----------+\n",
      "|  0.0  |   0.0    |\n",
      "| 0.125 | 0.12467  |\n",
      "|  0.25 | 0.247234 |\n",
      "| 0.375 | 0.364902 |\n",
      "|  0.5  | 0.473112 |\n",
      "| 0.625 | 0.563209 |\n",
      "|  0.75 | 0.616193 |\n",
      "| 0.875 | 0.579699 |\n",
      "|  1.0  |   0.0    |\n",
      "+-------+----------+\n",
      "Методом трапеций значение получилось: 0.371127\n",
      "Методом трапеций с удвоенным шагом значение получилось: 0.334135\n",
      "Через уточнение экстраполяцией Ричардсона значение получилось: 0.383458\n",
      "Методом Симпсона значение получилось: 0.383458\n"
     ]
    }
   ],
   "source": [
    "fifthInt = Integrator([(i*0.125) for i in range(9)], np.around([0] + [np.tan(i*0.125)*np.sqrt(1-(i*0.125)**2) for i in range(1, 9)], decimals=6))\n",
    "fifthInt.dumpAll()"
   ]
  },
  {
   "cell_type": "markdown",
   "id": "2b454c3f-9904-4f62-8037-2038a8af4c94",
   "metadata": {},
   "source": [
    "## Как и ожидалось, значени посчитанное методом Симпсона и уточнение экстраполяцией Ричардсона совпало, так как это одно и тоже, только в разных формах"
   ]
  }
 ],
 "metadata": {
  "kernelspec": {
   "display_name": "Python 3 (ipykernel)",
   "language": "python",
   "name": "python3"
  },
  "language_info": {
   "codemirror_mode": {
    "name": "ipython",
    "version": 3
   },
   "file_extension": ".py",
   "mimetype": "text/x-python",
   "name": "python",
   "nbconvert_exporter": "python",
   "pygments_lexer": "ipython3",
   "version": "3.10.8"
  }
 },
 "nbformat": 4,
 "nbformat_minor": 5
}
